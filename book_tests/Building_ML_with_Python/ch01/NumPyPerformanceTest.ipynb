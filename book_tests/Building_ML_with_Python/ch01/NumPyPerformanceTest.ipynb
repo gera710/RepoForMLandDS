{
 "cells": [
  {
   "cell_type": "code",
   "execution_count": 1,
   "metadata": {},
   "outputs": [],
   "source": [
    "import timeit"
   ]
  },
  {
   "cell_type": "code",
   "execution_count": 4,
   "metadata": {},
   "outputs": [],
   "source": [
    "normal_py_sec = timeit.timeit('sum( x*x for x in range(1000) )', number=10000)"
   ]
  },
  {
   "cell_type": "code",
   "execution_count": 5,
   "metadata": {},
   "outputs": [],
   "source": [
    "naive_np_sec = timeit.timeit( 'sum( na*na )',\n",
    "                            setup = \"import numpy as np; na=np.arange(1000)\",\n",
    "                            number=10000)"
   ]
  },
  {
   "cell_type": "code",
   "execution_count": 7,
   "metadata": {},
   "outputs": [],
   "source": [
    "good_np_sec = timeit.timeit( 'na.dot(na)',\n",
    "                           setup = \"import numpy as np; na=np.arange(1000)\",\n",
    "                           number=10000)"
   ]
  },
  {
   "cell_type": "code",
   "execution_count": 10,
   "metadata": {},
   "outputs": [
    {
     "name": "stdout",
     "output_type": "stream",
     "text": [
      "Normal Python: 0.656171 sec\n",
      "Naive NumPy: 1.304739 sec\n",
      "Good NumPy: 0.012623 sec\n"
     ]
    }
   ],
   "source": [
    "print(\"Normal Python: %f sec\" % normal_py_sec) \n",
    "print(\"Naive NumPy: %f sec\" % naive_np_sec) \n",
    "print(\"Good NumPy: %f sec\" % good_np_sec)"
   ]
  },
  {
   "cell_type": "code",
   "execution_count": null,
   "metadata": {},
   "outputs": [],
   "source": []
  }
 ],
 "metadata": {
  "kernelspec": {
   "display_name": "Python 3",
   "language": "python",
   "name": "python3"
  },
  "language_info": {
   "codemirror_mode": {
    "name": "ipython",
    "version": 3
   },
   "file_extension": ".py",
   "mimetype": "text/x-python",
   "name": "python",
   "nbconvert_exporter": "python",
   "pygments_lexer": "ipython3",
   "version": "3.8.3"
  }
 },
 "nbformat": 4,
 "nbformat_minor": 4
}
